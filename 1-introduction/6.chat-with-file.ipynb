{
 "cells": [
  {
   "cell_type": "markdown",
   "metadata": {},
   "source": [
    "# Pre-requisites\n",
    "- Be sure you have created the `.env` file with the following format:\n",
    "```\n",
    "GLOBAL_LLM_SERVICE=\"AzureOpenAI\"\n",
    "AZURE_OPENAI_API_KEY=\"....\"\n",
    "AZURE_OPENAI_ENDPOINT=\"https://.....openai.azure.com/\"\n",
    "AZURE_OPENAI_CHAT_DEPLOYMENT_NAME=\"...\"\n",
    "AZURE_OPENAI_API_VERSION=\"2024-08-01-preview\"\n",
    "```\n",
    "\n",
    "- Be sure you have run the following command to install the required packages:\n",
    " ```bash\n",
    "   # Install requirements\n",
    "   pip install -r requirements.txt\n",
    "```"
   ]
  },
  {
   "cell_type": "code",
   "execution_count": 5,
   "metadata": {},
   "outputs": [],
   "source": [
    "import os\n",
    "from openai import AzureOpenAI\n",
    "from dotenv import load_dotenv\n",
    "from markitdown import MarkItDown"
   ]
  },
  {
   "cell_type": "code",
   "execution_count": 6,
   "metadata": {},
   "outputs": [],
   "source": [
    "def extract_text_from_file(file):\n",
    "    md = MarkItDown()\n",
    "    result = md.convert(file)\n",
    "    return result.text_content"
   ]
  },
  {
   "cell_type": "code",
   "execution_count": 7,
   "metadata": {},
   "outputs": [],
   "source": [
    "load_dotenv()\n",
    "\n",
    "endpoint = os.getenv(\"AZURE_OPENAI_ENDPOINT\")  \n",
    "deployment = os.getenv(\"AZURE_OPENAI_CHAT_DEPLOYMENT_NAME\")  \n",
    "api_key = os.getenv(\"AZURE_OPENAI_API_KEY\")  \n",
    "api_version = os.getenv(\"AZURE_OPENAI_API_VERSION\")\n",
    "\n",
    "client = AzureOpenAI(\n",
    "    azure_endpoint=endpoint,\n",
    "    api_key=api_key,\n",
    "    api_version= api_version)"
   ]
  },
  {
   "cell_type": "code",
   "execution_count": 11,
   "metadata": {},
   "outputs": [],
   "source": [
    "f1 = '../data/cv/Modern hospitality resume.pdf'\n",
    "\n",
    "mdF1 = extract_text_from_file(file=f1)\n",
    "\n",
    "#print(mdF1)"
   ]
  },
  {
   "cell_type": "code",
   "execution_count": 12,
   "metadata": {},
   "outputs": [],
   "source": [
    "\n",
    "messageList = [\n",
    "    {\"role\": \"system\", \"content\": \"You are an agent that given a file in markdown format will answer questions only about it. If you don't know the answer, you must say so. File: ---\" + mdF1 + \"---\"},\n",
    "    {\"role\": \"user\", \"content\": \"What is this file about?\"},\n",
    "]"
   ]
  },
  {
   "cell_type": "code",
   "execution_count": 13,
   "metadata": {},
   "outputs": [
    {
     "name": "stdout",
     "output_type": "stream",
     "text": [
      "\n",
      "\n",
      "assistant /> The file is a resume for Lisandro Milanes, an Assistant Hotel Manager. It outlines his professional profile, work experience, key skills, education, and personal interests. The resume highlights his experience in hotel management, conflict resolution, staff training, and customer service.\n"
     ]
    }
   ],
   "source": [
    "response = client.chat.completions.create(\n",
    "    model=deployment,\n",
    "    messages=messageList,\n",
    "    #max_tokens=100,\n",
    "    temperature=0.0,\n",
    "    \n",
    ")\n",
    "#print(response.to_json())\n",
    "#print(response.choices[0].message.to_json())\n",
    "print(\"\\n\\n\" + response.choices[0].message.role + \" /> \" + response.choices[0].message.content)"
   ]
  }
 ],
 "metadata": {
  "kernelspec": {
   "display_name": ".venv",
   "language": "python",
   "name": "python3"
  },
  "language_info": {
   "codemirror_mode": {
    "name": "ipython",
    "version": 3
   },
   "file_extension": ".py",
   "mimetype": "text/x-python",
   "name": "python",
   "nbconvert_exporter": "python",
   "pygments_lexer": "ipython3",
   "version": "3.11.9"
  }
 },
 "nbformat": 4,
 "nbformat_minor": 2
}
